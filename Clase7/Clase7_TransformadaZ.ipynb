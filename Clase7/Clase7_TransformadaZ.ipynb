{
 "cells": [
  {
   "cell_type": "code",
   "execution_count": 6,
   "id": "00d25742",
   "metadata": {},
   "outputs": [
    {
     "name": "stdout",
     "output_type": "stream",
     "text": [
      "f[n]: \n",
      " n\n",
      "a \n",
      "\n",
      " F[z] desde sumatoria:\n",
      "⎛   1     │a│    ⎞\n",
      "⎜───────, │─│ < 1⎟\n",
      "⎜  a      │z│    ⎟\n",
      "⎜- ─ + 1         ⎟\n",
      "⎝  z             ⎠\n",
      "\n",
      " F[z] simplificada\n",
      "  z   \n",
      "──────\n",
      "-a + z\n",
      "\n",
      " ROC: \n",
      "│a│    \n",
      "│─│ < 1\n",
      "│z│    \n",
      "\n",
      " {Q_polos:veces}: {a: 1}\n",
      " {P_ceros:veces}: {0: 1}\n"
     ]
    }
   ],
   "source": [
    "# transformada z de x[n]u[n]\n",
    "import sympy as sym\n",
    "\n",
    "# INGRESO\n",
    "z = sym.symbols('z')\n",
    "n = sym.symbols('n', positive=True)\n",
    "a = sym.symbols('a')\n",
    "u = sym.Heaviside(n)\n",
    "\n",
    "fn = (a**n)*u\n",
    "\n",
    "# valor a como racional en dominio 'ZZ' enteros\n",
    "a_k = sym.Rational(1/2).limit_denominator(100)\n",
    "m   = 7        # Términos a graficar\n",
    "muestras = 101 # dominio z\n",
    "\n",
    "# PROCEDIMIENTO\n",
    "fnz = fn*(z**(-n)) # f(n,z) para sumatoria\n",
    "# sumatoria transformada z\n",
    "Fz_sum = sym.summation(fnz,(n,0,sym.oo))\n",
    "Fz_eq  = Fz_sum.args[0]  # primera ecuacion e intervalo\n",
    "Fz = Fz_eq[0].simplify() # solo expresion\n",
    "\n",
    "ROC = Fz_eq[1]  # condicion ROC\n",
    "\n",
    "# polos y ceros de Fz\n",
    "[P,Q] = Fz.as_numer_denom()\n",
    "P = sym.poly(P,z)\n",
    "Q = sym.poly(Q,z)\n",
    "P_ceros = sym.roots(P)\n",
    "Q_polos = sym.roots(Q)\n",
    "\n",
    "# SALIDA\n",
    "print('f[n]: ')\n",
    "sym.pprint(fn)\n",
    "print('\\n F[z] desde sumatoria:')\n",
    "sym.pprint(Fz_eq)\n",
    "print('\\n F[z] simplificada')\n",
    "sym.pprint(Fz)\n",
    "print('\\n ROC: ')\n",
    "sym.pprint(ROC)\n",
    "print('\\n {Q_polos:veces}:',Q_polos)\n",
    "print(' {P_ceros:veces}:',P_ceros)\n"
   ]
  },
  {
   "cell_type": "code",
   "execution_count": null,
   "id": "a8f9c3c6",
   "metadata": {},
   "outputs": [],
   "source": []
  },
  {
   "cell_type": "code",
   "execution_count": null,
   "id": "231c719f",
   "metadata": {},
   "outputs": [],
   "source": []
  }
 ],
 "metadata": {
  "kernelspec": {
   "display_name": "Python 3 (ipykernel)",
   "language": "python",
   "name": "python3"
  },
  "language_info": {
   "codemirror_mode": {
    "name": "ipython",
    "version": 3
   },
   "file_extension": ".py",
   "mimetype": "text/x-python",
   "name": "python",
   "nbconvert_exporter": "python",
   "pygments_lexer": "ipython3",
   "version": "3.9.13"
  }
 },
 "nbformat": 4,
 "nbformat_minor": 5
}
