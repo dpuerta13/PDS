{
 "cells": [
  {
   "cell_type": "code",
   "execution_count": 3,
   "id": "d0c0e1cb",
   "metadata": {},
   "outputs": [
    {
     "name": "stdout",
     "output_type": "stream",
     "text": [
      "X[z]: \n",
      "  z   \n",
      "──────\n",
      "-a + z\n",
      "\n",
      " F[z]:\n",
      "         2    3    4    5    6               \n",
      "    a   a    a    a    a    a     ⎛1        ⎞\n",
      "1 + ─ + ── + ── + ── + ── + ── + O⎜──; z → ∞⎟\n",
      "    z    2    3    4    5    6    ⎜ 7       ⎟\n",
      "        z    z    z    z    z     ⎝z        ⎠\n",
      "Términos x[n] entre[0,7]\n",
      "[1, a, a**2, a**3, a**4, a**5, a**6]\n",
      "\n",
      " x[n] con a= 1/2\n",
      "[1.0, 0.5, 0.25, 0.125, 0.0625, 0.03125, 0.015625]\n"
     ]
    },
    {
     "data": {
      "image/png": "[encoded data removed]",
      "text/plain": [
       "<Figure size 640x480 with 1 Axes>"
      ]
     },
     "metadata": {},
     "output_type": "display_data"
    }
   ],
   "source": [
    "# transformada z inversa de X[z]\n",
    "# supone que la expresión son fracciones parciales\n",
    "import sympy as sym\n",
    "\n",
    "# INGRESO\n",
    "z = sym.symbols('z')\n",
    "n = sym.symbols('n', integer=True, positive=True)\n",
    "a = sym.symbols('a')\n",
    "\n",
    "Xz = z/(z-a)\n",
    "\n",
    "# valor a como racional en dominio 'ZZ' enteros\n",
    "a_k = sym.Rational(1/2).limit_denominator(100)\n",
    "\n",
    "m = 7   # Términos a graficar\n",
    "\n",
    "# PROCEDIMIENTO\n",
    "# expresión Xz con z para aplicar serie\n",
    "# separa numerador y denominador\n",
    "[Pz,Qz] = Xz.as_numer_denom()\n",
    "Pz = (Pz*(1/z)).expand(1/z)\n",
    "Qz = (Qz*(1/z)).expand(1/z)\n",
    "\n",
    "# cambia Z por 1/z\n",
    "Z = sym.symbols('Z')\n",
    "PZ = Pz.subs(1/z,Z)\n",
    "QZ = Qz.subs(1/z,Z)\n",
    "XZ = PZ/QZ\n",
    "\n",
    "# Series de potencia de Z\n",
    "FZ = sym.series(XZ,Z, n=m)\n",
    "Fz = FZ.subs(Z,1/z) # restituye 1/z\n",
    "\n",
    "# Terminos de X[n]\n",
    "xn = []\n",
    "termino = Fz.args\n",
    "for i in range(0,m,1):\n",
    "    xn.append(termino[i]*(z**i))\n",
    "\n",
    "# SALIDA\n",
    "print('X[z]: ')\n",
    "sym.pprint(Xz)\n",
    "print('\\n F[z]:')\n",
    "sym.pprint(Fz)\n",
    "print('Términos x[n] entre[0,'+str(m)+']')\n",
    "print(xn)\n",
    "\n",
    "# GRAFICA valores ---------------\n",
    "import numpy as np\n",
    "import matplotlib.pyplot as plt\n",
    "# Terminos de X[n]\n",
    "xi = [] ; ki=[]\n",
    "for i in range(0,m,1):\n",
    "    valor = xn[i].subs({z:1,a:a_k})\n",
    "    xi.append(float(valor))\n",
    "    ki.append(i)\n",
    "\n",
    "print('\\n x[n] con a=',a_k)\n",
    "print(xi)\n",
    "\n",
    "# grafica entrada x[n]\n",
    "plt.axvline(0,color='grey')\n",
    "\n",
    "plt.stem(ki,xi,label='x[n]')\n",
    "\n",
    "plt.xlabel('n')\n",
    "plt.ylabel('x[n]')\n",
    "plt.title(r'x[n]= $'+str(sym.latex(xn))+'$')\n",
    "plt.grid()\n",
    "\n",
    "plt.show()"
   ]
  },
  {
   "cell_type": "code",
   "execution_count": null,
   "id": "763e14ab",
   "metadata": {},
   "outputs": [],
   "source": []
  }
 ],
 "metadata": {
  "kernelspec": {
   "display_name": "Python 3 (ipykernel)",
   "language": "python",
   "name": "python3"
  },
  "language_info": {
   "codemirror_mode": {
    "name": "ipython",
    "version": 3
   },
   "file_extension": ".py",
   "mimetype": "text/x-python",
   "name": "python",
   "nbconvert_exporter": "python",
   "pygments_lexer": "ipython3",
   "version": "3.9.13"
  }
 },
 "nbformat": 4,
 "nbformat_minor": 5
}
