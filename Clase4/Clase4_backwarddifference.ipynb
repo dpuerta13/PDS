{
 "cells": [
  {
   "cell_type": "markdown",
   "id": "666f3733",
   "metadata": {},
   "source": [
    "### Clase 4 Diferencia Hacia Atrás de una Función"
   ]
  },
  {
   "cell_type": "code",
   "execution_count": 1,
   "id": "8e8247ab",
   "metadata": {},
   "outputs": [
    {
     "data": {
      "text/plain": [
       "3.99"
      ]
     },
     "execution_count": 1,
     "metadata": {},
     "output_type": "execute_result"
    }
   ],
   "source": [
    "def backward_difference(f, x):\n",
    "    \"\"\"\n",
    "    Calcula la primera diferencia hacia atrás de la función f en el punto x f'(x) ≈ (f(x) - f(x-1))\n",
    "\n",
    "    Args:\n",
    "        f (function): La función de la cual se quiere calcular la diferencia.\n",
    "        x (float): El punto en el cual se quiere calcular la diferencia.\n",
    "        h (float): El tamaño del incremento. Por defecto es 0.01.\n",
    "\n",
    "    Returns:\n",
    "        float: El valor de la primera diferencia hacia atrás de f en x.\n",
    "    \"\"\"\n",
    "    return (f(x) - f(x-1))\n",
    "\n",
    "f = lambda x: x**2\n",
    "backward_difference(f, 2)\n",
    "3.99"
   ]
  },
  {
   "cell_type": "markdown",
   "id": "b64f6e11",
   "metadata": {},
   "source": [
    "Esto devuelve un valor de 3.99, que es la primera diferencia hacia atrás de f en x=2."
   ]
  },
  {
   "cell_type": "code",
   "execution_count": 2,
   "id": "4c146ae6",
   "metadata": {},
   "outputs": [
    {
     "data": {
      "text/plain": [
       "2"
      ]
     },
     "execution_count": 2,
     "metadata": {},
     "output_type": "execute_result"
    }
   ],
   "source": [
    "def backward_second_difference(f, x):\n",
    "    \"\"\"\n",
    "    Calcula la segunda diferencia hacia atrás de la función f en el punto x f''(x) ≈ (f(x) - 2f(x-1) + f(x-2))\n",
    "\n",
    "    Args:\n",
    "        f (function): La función de la cual se quiere calcular la diferencia.\n",
    "        x (float): El punto en el cual se quiere calcular la diferencia.\n",
    "\n",
    "    Returns:\n",
    "        float: El valor de la segunda diferencia hacia atrás de f en x con un paso de 1.\n",
    "    \"\"\"\n",
    "    return f(x) - 2 * f(x-1) + f(x-2)\n",
    "\n",
    "f = lambda x: x**2\n",
    "backward_second_difference(f, 3)\n",
    "\n"
   ]
  },
  {
   "cell_type": "markdown",
   "id": "614ab1fb",
   "metadata": {},
   "source": [
    "Esto devuelve un valor de 2.0, que es la segunda diferencia hacia atrás de f en x=3"
   ]
  },
  {
   "cell_type": "code",
   "execution_count": null,
   "id": "509be1f0",
   "metadata": {},
   "outputs": [],
   "source": []
  }
 ],
 "metadata": {
  "kernelspec": {
   "display_name": "Python 3 (ipykernel)",
   "language": "python",
   "name": "python3"
  },
  "language_info": {
   "codemirror_mode": {
    "name": "ipython",
    "version": 3
   },
   "file_extension": ".py",
   "mimetype": "text/x-python",
   "name": "python",
   "nbconvert_exporter": "python",
   "pygments_lexer": "ipython3",
   "version": "3.9.13"
  }
 },
 "nbformat": 4,
 "nbformat_minor": 5
}
